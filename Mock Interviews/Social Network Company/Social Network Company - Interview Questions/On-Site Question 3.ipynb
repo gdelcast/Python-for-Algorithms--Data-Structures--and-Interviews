{
 "cells": [
  {
   "cell_type": "markdown",
   "metadata": {},
   "source": [
    "# On-Site Question 3 \n",
    "\n",
    "## Problem\n",
    "\n",
    "** Create a function that takes in a list of unsorted prices (integers) and a maximum possible price value, and return a sorted list of prices**\n",
    "\n",
    "## Requirements\n",
    "\n",
    "** Your function should be able to perform this in less than O(nlogn) time. **"
   ]
  },
  {
   "cell_type": "markdown",
   "metadata": {},
   "source": [
    "# Good Luck!"
   ]
  },
  {
   "cell_type": "code",
   "execution_count": 90,
   "metadata": {},
   "outputs": [
    {
     "data": {
      "text/plain": [
       "[2, 6, 10, 15, 20, 25]"
      ]
     },
     "execution_count": 90,
     "metadata": {},
     "output_type": "execute_result"
    }
   ],
   "source": [
    "def list_prices(lprices, maxprice):\n",
    "\n",
    "    def quick_sort(prices):\n",
    "        if not prices: return []\n",
    "        if len(prices)==1:\n",
    "            if prices[0]>maxprice :\n",
    "                 return prices\n",
    "            else: \n",
    "                return []\n",
    "\n",
    "        low = 0\n",
    "        high = len(prices)-1\n",
    "        \n",
    "        while low<high:\n",
    "            temp = prices[low]\n",
    "\n",
    "            #print(prices)\n",
    "                \n",
    "            if prices[low]>prices[high]:\n",
    "                prices[low] = prices[high-1]\n",
    "                prices[high-1] = prices[high]\n",
    "                prices[high] = temp\n",
    "                high -= 1\n",
    "            else:\n",
    "                low += 1\n",
    "\n",
    "        left = quick_sort(prices[:high])\n",
    "        right = quick_sort(prices[high+1:])\n",
    "\n",
    "        return  left + [prices[high]]+ right\n",
    "\n",
    "\n",
    "    return quick_sort(lprices)\n",
    "\n",
    "prices = [10,1,2,4,7,15,20,6,25]\n",
    "maxprice = 16\n",
    "list_prices(prices, maxprice)"
   ]
  },
  {
   "cell_type": "code",
   "execution_count": null,
   "metadata": {},
   "outputs": [],
   "source": []
  }
 ],
 "metadata": {
  "interpreter": {
   "hash": "40d3a090f54c6569ab1632332b64b2c03c39dcf918b08424e98f38b5ae0af88f"
  },
  "kernelspec": {
   "display_name": "Python 3.8.8 64-bit ('base': conda)",
   "name": "python3"
  },
  "language_info": {
   "codemirror_mode": {
    "name": "ipython",
    "version": 3
   },
   "file_extension": ".py",
   "mimetype": "text/x-python",
   "name": "python",
   "nbconvert_exporter": "python",
   "pygments_lexer": "ipython3",
   "version": "3.8.8"
  }
 },
 "nbformat": 4,
 "nbformat_minor": 0
}
