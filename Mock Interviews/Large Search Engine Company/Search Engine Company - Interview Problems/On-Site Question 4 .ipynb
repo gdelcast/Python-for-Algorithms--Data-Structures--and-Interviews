{
 "cells": [
  {
   "cell_type": "markdown",
   "metadata": {},
   "source": [
    "# On-Site Question 4 \n",
    "\n",
    "## Question\n",
    "**Find the squareroot of a given number rounded down to the nearest integer, without using the sqrt function. For example, squareroot of a number between [9, 15] should return 3, and [16, 24] should be 4.**\n",
    "\n",
    "## Requirements\n",
    "\n",
    "** Feel free to code this out (but its recommended that you use paper/pencil or whiteboard)**"
   ]
  },
  {
   "cell_type": "code",
   "execution_count": 9,
   "metadata": {},
   "outputs": [
    {
     "data": {
      "text/plain": [
       "50"
      ]
     },
     "execution_count": 9,
     "metadata": {},
     "output_type": "execute_result"
    }
   ],
   "source": [
    "def squareRoot (num):\n",
    "    if not num: return 0\n",
    "    maxnum =0\n",
    "    # for i in range(1,num//2):\n",
    "    #     if i * i > maxnum and i * i <=num:\n",
    "    #         maxnum = i\n",
    "\n",
    "    def binary_search(mi:int, ma:int):\n",
    "        if not mi and not ma: return \n",
    "        nonlocal maxnum\n",
    "\n",
    "        c = (mi+ma) // 2\n",
    "        #print(str(mi) + \":\" + str(ma) +\"*\" + str(c))\n",
    "        maxnum = c\n",
    "\n",
    "        if mi==ma-1 or mi==ma:\n",
    "            return\n",
    "        elif c * c< num:\n",
    "            binary_search(c, ma)\n",
    "        elif c * c>num:\n",
    "            binary_search(mi, c)\n",
    "    \n",
    "    \n",
    "    binary_search(0,num)\n",
    "    \n",
    "    return maxnum\n",
    "\n",
    "\n",
    "squareRoot(2566)"
   ]
  },
  {
   "cell_type": "markdown",
   "metadata": {},
   "source": [
    "# Good Luck!"
   ]
  },
  {
   "cell_type": "markdown",
   "metadata": {},
   "source": []
  }
 ],
 "metadata": {
  "interpreter": {
   "hash": "b3ba2566441a7c06988d0923437866b63cedc61552a5af99d1f4fb67d367b25f"
  },
  "kernelspec": {
   "display_name": "Python 3.8.8 64-bit ('base': conda)",
   "name": "python3"
  },
  "language_info": {
   "codemirror_mode": {
    "name": "ipython",
    "version": 3
   },
   "file_extension": ".py",
   "mimetype": "text/x-python",
   "name": "python",
   "nbconvert_exporter": "python",
   "pygments_lexer": "ipython3",
   "version": "3.8.8"
  }
 },
 "nbformat": 4,
 "nbformat_minor": 0
}
