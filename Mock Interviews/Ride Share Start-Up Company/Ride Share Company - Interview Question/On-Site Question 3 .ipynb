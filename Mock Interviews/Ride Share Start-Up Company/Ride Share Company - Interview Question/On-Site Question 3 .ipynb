{
 "cells": [
  {
   "cell_type": "markdown",
   "metadata": {},
   "source": [
    "# On-Site Question 3 \n",
    "\n",
    "## Problem\n",
    "\n",
    "** Given a binary tree, check whether it’s a binary search tree or not. **"
   ]
  },
  {
   "cell_type": "code",
   "execution_count": 67,
   "metadata": {},
   "outputs": [
    {
     "name": "stdout",
     "output_type": "stream",
     "text": [
      "{'val': 5, 'left': '{\\'val\\': 2, \\'left\\': \"{\\'val\\': 1, \\'left\\': None, \\'right\\': None}\", \\'right\\': \"{\\'val\\': 3, \\'left\\': None, \\'right\\': None}\"}', 'right': \"{'val': 4, 'left': None, 'right': None}\"}\n"
     ]
    },
    {
     "data": {
      "text/plain": [
       "False"
      ]
     },
     "execution_count": 67,
     "metadata": {},
     "output_type": "execute_result"
    }
   ],
   "source": [
    "import json\n",
    "class Node(object):\n",
    "    def __init__(self,val):\n",
    "        self.val = val\n",
    "        self.left = None\n",
    "        self.right = None\n",
    "    def __str__(self):\n",
    "        string = {\n",
    "            'val':self.val,\n",
    "            'left': None if not self.left else self.left.__str__(),\n",
    "            'right': None if not self.right else self.right.__str__()\n",
    "        }\n",
    "        return str(string)\n",
    "\n",
    "def DFS(node):\n",
    "    if not node: return []\n",
    "\n",
    "    out = []\n",
    "    out = DFS(node.left)\n",
    "    out += [node.val]\n",
    "    #print(node.val)\n",
    "    out += DFS(node.right)\n",
    "\n",
    "    return out \n",
    "\n",
    "def getMax(node):\n",
    "    if not node: return float('-inf')\n",
    "    return max(node.val,getMax(node.left),getMax(node.right))\n",
    "\n",
    "def getMin(node):\n",
    "    if not node: return float('inf')\n",
    "    return min(node.val,getMin(node.left),getMin(node.right))\n",
    "\n",
    "def check_branches(node):\n",
    "    if not node: return True\n",
    "\n",
    "    if check_branches(node.left) and check_branches(node.right) and node.val>getMax(node.left) and node.val<getMin(node.right):\n",
    "        return True\n",
    "    else:\n",
    "        return False\n",
    "\n",
    "def check_BST(node):\n",
    "    #out = DFS(node) # using DFS\n",
    "    #return out == sorted(out)\n",
    "    return check_branches(node)\n",
    "\n",
    "\n",
    "tree = Node(5)\n",
    "tree.left = Node(2)\n",
    "tree.right = Node(4)\n",
    "tree.left.left = Node(1)\n",
    "tree.left.right = Node(3)\n",
    "\n",
    "print(tree)\n",
    "check_BST(tree)\n",
    "\n"
   ]
  },
  {
   "cell_type": "markdown",
   "metadata": {},
   "source": [
    "## Requirements\n",
    "\n",
    "** Use paper/pencil, do not code this in an IDE until you've done it manually**\n",
    "\n",
    "** Do not use built-in Python libraries to do this, but do mention them if you know about them **"
   ]
  },
  {
   "cell_type": "markdown",
   "metadata": {},
   "source": [
    "# Good Luck!"
   ]
  }
 ],
 "metadata": {
  "interpreter": {
   "hash": "b3ba2566441a7c06988d0923437866b63cedc61552a5af99d1f4fb67d367b25f"
  },
  "kernelspec": {
   "display_name": "Python 3.8.8 64-bit ('base': conda)",
   "name": "python3"
  },
  "language_info": {
   "codemirror_mode": {
    "name": "ipython",
    "version": 3
   },
   "file_extension": ".py",
   "mimetype": "text/x-python",
   "name": "python",
   "nbconvert_exporter": "python",
   "pygments_lexer": "ipython3",
   "version": "3.8.8"
  }
 },
 "nbformat": 4,
 "nbformat_minor": 0
}
