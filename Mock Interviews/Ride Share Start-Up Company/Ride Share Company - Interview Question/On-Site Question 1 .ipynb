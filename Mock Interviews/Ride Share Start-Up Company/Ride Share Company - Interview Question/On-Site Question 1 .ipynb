{
 "cells": [
  {
   "cell_type": "markdown",
   "metadata": {},
   "source": [
    "# On-Site Question 1 \n",
    "\n",
    "## Problem\n",
    "\n",
    "** Given a list of integers, find the largest product you could make from 3 integers in the list **\n",
    "\n",
    "## Requirements\n",
    "\n",
    "** You can assume that the list will always have at least 3 integers **\n",
    "\n",
    "** Paper/pencil only, don't code this out until you've solved it as far as you can by hand. **"
   ]
  },
  {
   "cell_type": "markdown",
   "metadata": {},
   "source": [
    "# Good Luck!"
   ]
  },
  {
   "cell_type": "code",
   "execution_count": 24,
   "metadata": {},
   "outputs": [
    {
     "data": {
      "text/plain": [
       "4320"
      ]
     },
     "execution_count": 24,
     "metadata": {},
     "output_type": "execute_result"
    }
   ],
   "source": [
    "import math\n",
    "def product(num):\n",
    "    if not num: return\n",
    "    \n",
    "    out =[]\n",
    "\n",
    "\n",
    "    for x in num:\n",
    "        if len(out)<=3:\n",
    "            out.append(x)\n",
    "            if len(out)>3:\n",
    "                out.remove(min(out))\n",
    "\n",
    "    return math.prod(out)\n",
    "\n",
    "num = [0,1,12,2,7,40,8,3,9]\n",
    "product(num)"
   ]
  },
  {
   "cell_type": "code",
   "execution_count": null,
   "metadata": {},
   "outputs": [],
   "source": []
  }
 ],
 "metadata": {
  "interpreter": {
   "hash": "dca0ade3e726a953b501b15e8e990130d2b7799f14cfd9f4271676035ebe5511"
  },
  "kernelspec": {
   "display_name": "Python 3.8.8 64-bit ('base': conda)",
   "name": "python3"
  },
  "language_info": {
   "codemirror_mode": {
    "name": "ipython",
    "version": 3
   },
   "file_extension": ".py",
   "mimetype": "text/x-python",
   "name": "python",
   "nbconvert_exporter": "python",
   "pygments_lexer": "ipython3",
   "version": "3.8.8"
  }
 },
 "nbformat": 4,
 "nbformat_minor": 0
}
