{
 "cells": [
  {
   "cell_type": "markdown",
   "source": [
    "# Unique Characters in String\n",
    "\n",
    "## Problem\n",
    "Given a string,determine if it is compreised of all unique characters. For example, the string 'abcde' has all unique characters and should return True. The string 'aabcde' contains duplicate characters and should return false."
   ],
   "metadata": {}
  },
  {
   "cell_type": "markdown",
   "source": [
    "## Solution\n",
    "Fill out your solution below:"
   ],
   "metadata": {}
  },
  {
   "cell_type": "code",
   "execution_count": 8,
   "source": [
    "def uni_char(s):\r\n",
    "    if s=='':\r\n",
    "        return True\r\n",
    "    \r\n",
    "    count_char=0\r\n",
    "    num = {}\r\n",
    "    for x in s:\r\n",
    "        if x not in num:\r\n",
    "            num[x] = 1\r\n",
    "        else:\r\n",
    "            return False\r\n",
    "    return True\r\n"
   ],
   "outputs": [],
   "metadata": {
    "collapsed": true
   }
  },
  {
   "cell_type": "code",
   "execution_count": 9,
   "source": [
    "uni_char('goo')"
   ],
   "outputs": [
    {
     "output_type": "execute_result",
     "data": {
      "text/plain": [
       "False"
      ]
     },
     "metadata": {},
     "execution_count": 9
    }
   ],
   "metadata": {}
  },
  {
   "cell_type": "markdown",
   "source": [
    "# Test Your Solution"
   ],
   "metadata": {}
  },
  {
   "cell_type": "code",
   "execution_count": 10,
   "source": [
    "\"\"\"\r\n",
    "RUN THIS CELL TO TEST YOUR CODE>\r\n",
    "\"\"\"\r\n",
    "from nose.tools import assert_equal\r\n",
    "\r\n",
    "\r\n",
    "class TestUnique(object):\r\n",
    "\r\n",
    "    def test(self, sol):\r\n",
    "        assert_equal(sol(''), True)\r\n",
    "        assert_equal(sol('goo'), False)\r\n",
    "        assert_equal(sol('abcdefg'), True)\r\n",
    "        print ('ALL TEST CASES PASSED')\r\n",
    "        \r\n",
    "# Run Tests\r\n",
    "t = TestUnique()\r\n",
    "t.test(uni_char)"
   ],
   "outputs": [
    {
     "output_type": "stream",
     "name": "stdout",
     "text": [
      "ALL TEST CASES PASSED\n"
     ]
    }
   ],
   "metadata": {
    "collapsed": false
   }
  },
  {
   "cell_type": "markdown",
   "source": [
    "## Good Job!"
   ],
   "metadata": {}
  }
 ],
 "metadata": {
  "kernelspec": {
   "name": "python3",
   "display_name": "Python 3.8.8 64-bit ('base': conda)"
  },
  "language_info": {
   "name": "python",
   "version": "3.8.8",
   "mimetype": "text/x-python",
   "codemirror_mode": {
    "name": "ipython",
    "version": 3
   },
   "pygments_lexer": "ipython3",
   "nbconvert_exporter": "python",
   "file_extension": ".py"
  },
  "interpreter": {
   "hash": "b3ba2566441a7c06988d0923437866b63cedc61552a5af99d1f4fb67d367b25f"
  }
 },
 "nbformat": 4,
 "nbformat_minor": 2
}