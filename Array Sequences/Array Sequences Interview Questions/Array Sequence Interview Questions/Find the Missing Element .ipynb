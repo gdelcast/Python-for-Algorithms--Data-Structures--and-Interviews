{
 "cells": [
  {
   "cell_type": "markdown",
   "source": [
    "# Find the Missing Element\n",
    "\n",
    "## Problem\n",
    "\n",
    "Consider an array of non-negative integers. A second array is formed by shuffling the elements of the first array and deleting a random element. Given these two arrays, find which element is missing in the second array. \n",
    "\n",
    "Here is an example input, the first array is shuffled and the number 5 is removed to construct the second array.\n",
    "\n",
    "Input:\n",
    "    \n",
    "    finder([1,2,3,4,5,6,7],[3,7,2,1,4,6])\n",
    "\n",
    "Output:\n",
    "\n",
    "    5 is the missing number\n",
    "\n",
    "## Solution\n",
    "\n",
    "Fill out your solution below:"
   ],
   "metadata": {}
  },
  {
   "cell_type": "code",
   "execution_count": 4,
   "source": [
    "def finder(arr1,arr2):\r\n",
    "    for i in range(len(arr2)):\r\n",
    "        arr1.remove(arr2[i])\r\n",
    "    if len(arr1)==1:\r\n",
    "        return arr1[0]\r\n",
    "    else:\r\n",
    "        return 0\r\n",
    "        "
   ],
   "outputs": [],
   "metadata": {
    "collapsed": true
   }
  },
  {
   "cell_type": "code",
   "execution_count": 76,
   "source": [
    "\r\n",
    "def finder2(arr1,arr2):\r\n",
    "    num = {}\r\n",
    "    for i in arr2:\r\n",
    "        if num.get(i) is None:\r\n",
    "            num[i] = 1\r\n",
    "        else:\r\n",
    "            num[i] += 1\r\n",
    "\r\n",
    "    for i in arr1:\r\n",
    "        if num.get(i) is None or num[i]==0:\r\n",
    "            return i\r\n",
    "        num[i] -= 1\r\n",
    "\r\n",
    "    # for k,v in num.items():\r\n",
    "    #     if v==1:\r\n",
    "    #         print(k)\r\n",
    "    \r\n",
    "    # return {v:k for k, v in num.items()}[1]\r\n",
    "        "
   ],
   "outputs": [],
   "metadata": {}
  },
  {
   "cell_type": "code",
   "execution_count": 77,
   "source": [
    "arr1 = [1,2,3,4,5,6,7]\r\n",
    "arr2 = [3,7,2,1,4,6]\r\n",
    "finder2(arr1,arr2)"
   ],
   "outputs": [
    {
     "output_type": "execute_result",
     "data": {
      "text/plain": [
       "5"
      ]
     },
     "metadata": {},
     "execution_count": 77
    }
   ],
   "metadata": {}
  },
  {
   "cell_type": "code",
   "execution_count": 78,
   "source": [
    "arr1 = [1,2,3,4,5,6,7]\r\n",
    "arr2 = [3,7,2,1,4,6]\r\n",
    "finder(arr1,arr2)"
   ],
   "outputs": [
    {
     "output_type": "execute_result",
     "data": {
      "text/plain": [
       "5"
      ]
     },
     "metadata": {},
     "execution_count": 78
    }
   ],
   "metadata": {
    "collapsed": false
   }
  },
  {
   "cell_type": "code",
   "execution_count": 79,
   "source": [
    "arr1 = [5,5,7,7]\r\n",
    "arr2 = [5,7,7]\r\n",
    "\r\n",
    "finder(arr1,arr2)"
   ],
   "outputs": [
    {
     "output_type": "execute_result",
     "data": {
      "text/plain": [
       "5"
      ]
     },
     "metadata": {},
     "execution_count": 79
    }
   ],
   "metadata": {
    "collapsed": false
   }
  },
  {
   "cell_type": "markdown",
   "source": [
    "_____"
   ],
   "metadata": {
    "collapsed": false
   }
  },
  {
   "cell_type": "markdown",
   "source": [
    "# Test Your Solution"
   ],
   "metadata": {}
  },
  {
   "cell_type": "code",
   "execution_count": 80,
   "source": [
    "\"\"\"\r\n",
    "RUN THIS CELL TO TEST YOUR SOLUTION\r\n",
    "\"\"\"\r\n",
    "from nose.tools import assert_equal\r\n",
    "\r\n",
    "class TestFinder(object):\r\n",
    "    \r\n",
    "    def test(self,sol):\r\n",
    "        assert_equal(sol([5,5,7,7],[5,7,7]),5)\r\n",
    "        assert_equal(sol([1,2,3,4,5,6,7],[3,7,2,1,4,6]),5)\r\n",
    "        assert_equal(sol([9,8,7,6,5,4,3,2,1],[9,8,7,5,4,3,2,1]),6)\r\n",
    "        print('ALL TEST CASES PASSED')\r\n",
    "\r\n",
    "# Run test\r\n",
    "t = TestFinder()\r\n",
    "t.test(finder)"
   ],
   "outputs": [
    {
     "output_type": "stream",
     "name": "stdout",
     "text": [
      "ALL TEST CASES PASSED\n"
     ]
    }
   ],
   "metadata": {
    "collapsed": false
   }
  },
  {
   "cell_type": "code",
   "execution_count": 73,
   "source": [
    "t.test(finder2)"
   ],
   "outputs": [
    {
     "output_type": "stream",
     "name": "stdout",
     "text": [
      "ALL TEST CASES PASSED\n"
     ]
    }
   ],
   "metadata": {}
  },
  {
   "cell_type": "markdown",
   "source": [
    "## Good Job!"
   ],
   "metadata": {}
  },
  {
   "cell_type": "markdown",
   "source": [],
   "metadata": {}
  }
 ],
 "metadata": {
  "kernelspec": {
   "name": "python3",
   "display_name": "Python 3.8.8 64-bit ('base': conda)"
  },
  "language_info": {
   "name": "python",
   "version": "3.8.8",
   "mimetype": "text/x-python",
   "codemirror_mode": {
    "name": "ipython",
    "version": 3
   },
   "pygments_lexer": "ipython3",
   "nbconvert_exporter": "python",
   "file_extension": ".py"
  },
  "interpreter": {
   "hash": "b3ba2566441a7c06988d0923437866b63cedc61552a5af99d1f4fb67d367b25f"
  }
 },
 "nbformat": 4,
 "nbformat_minor": 2
}