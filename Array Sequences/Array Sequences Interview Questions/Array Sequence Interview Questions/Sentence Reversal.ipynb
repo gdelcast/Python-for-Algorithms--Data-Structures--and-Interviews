{
 "cells": [
  {
   "cell_type": "markdown",
   "source": [
    "# Sentence Reversal\n",
    "\n",
    "## Problem\n",
    "\n",
    "Given a string of words, reverse all the words. For example:\n",
    "\n",
    "Given:\n",
    "    \n",
    "    'This is the best'\n",
    "\n",
    "Return:\n",
    "\n",
    "    'best the is This'\n",
    "\n",
    "As part of this exercise you should remove all leading and trailing whitespace. So that inputs such as:\n",
    "\n",
    "    '  space here'  and 'space here      '\n",
    "\n",
    "both become:\n",
    "\n",
    "    'here space'\n",
    "\n",
    "## Solution\n",
    "\n",
    "Fill out your solution below:"
   ],
   "metadata": {}
  },
  {
   "cell_type": "code",
   "execution_count": 31,
   "source": [
    "def rev_word(s):\r\n",
    "    #find words\r\n",
    "    arr = s.split()\r\n",
    "    #revers the array\r\n",
    "    arr.reverse()\r\n",
    "    return \" \".join(arr)"
   ],
   "outputs": [],
   "metadata": {}
  },
  {
   "cell_type": "code",
   "execution_count": 125,
   "source": [
    "def rev_word(s):\r\n",
    "    if len(s)==0:\r\n",
    "        return \"empty\"\r\n",
    "\r\n",
    "    #find words\r\n",
    "    arr = []\r\n",
    "    word=\"\"\r\n",
    "    for i in range(len(s)):\r\n",
    "        if s[i] != ' ':\r\n",
    "            word += s[i]\r\n",
    "\r\n",
    "        if (s[i]==' 'or i+1==len(s))  and word!='' :\r\n",
    "            arr.append(word)\r\n",
    "            word=\"\"\r\n",
    "    print(arr)\r\n",
    "\r\n",
    "    #reverse the array\r\n",
    "    start = 0\r\n",
    "    end = len(arr)-1\r\n",
    "    while start<end:\r\n",
    "        temp = arr[end]\r\n",
    "        arr[end] = arr[start]\r\n",
    "        arr[start] = temp\r\n",
    "        start += 1\r\n",
    "        end -= 1\r\n",
    "\r\n",
    "    return \" \".join(arr)\r\n",
    "\r\n",
    "    "
   ],
   "outputs": [],
   "metadata": {
    "collapsed": true
   }
  },
  {
   "cell_type": "code",
   "execution_count": 126,
   "source": [
    "rev_word('Hi John,   are you ready to go?')\r\n",
    "\r\n",
    "#'go? to ready you are John, Hi'"
   ],
   "outputs": [
    {
     "output_type": "stream",
     "name": "stdout",
     "text": [
      "['Hi', 'John,', 'are', 'you', 'ready', 'to', 'go?']\n"
     ]
    },
    {
     "output_type": "execute_result",
     "data": {
      "text/plain": [
       "'go? to ready you are John, Hi'"
      ]
     },
     "metadata": {},
     "execution_count": 126
    }
   ],
   "metadata": {
    "collapsed": false
   }
  },
  {
   "cell_type": "code",
   "execution_count": 127,
   "source": [
    "rev_word('    space before')"
   ],
   "outputs": [
    {
     "output_type": "stream",
     "name": "stdout",
     "text": [
      "['space', 'before']\n"
     ]
    },
    {
     "output_type": "execute_result",
     "data": {
      "text/plain": [
       "'before space'"
      ]
     },
     "metadata": {},
     "execution_count": 127
    }
   ],
   "metadata": {
    "collapsed": false
   }
  },
  {
   "cell_type": "markdown",
   "source": [
    "_____"
   ],
   "metadata": {}
  },
  {
   "cell_type": "markdown",
   "source": [
    "# Test Your Solution"
   ],
   "metadata": {}
  },
  {
   "cell_type": "code",
   "execution_count": 128,
   "source": [
    "\"\"\"\r\n",
    "RUN THIS CELL TO TEST YOUR SOLUTION\r\n",
    "\"\"\"\r\n",
    "\r\n",
    "from nose.tools import assert_equal\r\n",
    "\r\n",
    "class ReversalTest(object):\r\n",
    "    \r\n",
    "    def test(self,sol):\r\n",
    "        assert_equal(sol('    space before'),'before space')\r\n",
    "        assert_equal(sol('space after     '),'after space')\r\n",
    "        assert_equal(sol('   Hello John    how are you   '),'you are how John Hello')\r\n",
    "        assert_equal(sol('1'),'1')\r\n",
    "        print(\"ALL TEST CASES PASSED\")\r\n",
    "        \r\n",
    "# Run and test\r\n",
    "t = ReversalTest()\r\n",
    "t.test(rev_word)"
   ],
   "outputs": [
    {
     "output_type": "stream",
     "name": "stdout",
     "text": [
      "['space', 'before']\n",
      "['space', 'after']\n",
      "['Hello', 'John', 'how', 'are', 'you']\n",
      "['1']\n",
      "ALL TEST CASES PASSED\n"
     ]
    }
   ],
   "metadata": {
    "collapsed": false
   }
  },
  {
   "cell_type": "markdown",
   "source": [
    "## Good Job!"
   ],
   "metadata": {}
  }
 ],
 "metadata": {
  "kernelspec": {
   "name": "python3",
   "display_name": "Python 3.8.8 64-bit ('base': conda)"
  },
  "language_info": {
   "name": "python",
   "version": "3.8.8",
   "mimetype": "text/x-python",
   "codemirror_mode": {
    "name": "ipython",
    "version": 3
   },
   "pygments_lexer": "ipython3",
   "nbconvert_exporter": "python",
   "file_extension": ".py"
  },
  "interpreter": {
   "hash": "b3ba2566441a7c06988d0923437866b63cedc61552a5af99d1f4fb67d367b25f"
  }
 },
 "nbformat": 4,
 "nbformat_minor": 2
}