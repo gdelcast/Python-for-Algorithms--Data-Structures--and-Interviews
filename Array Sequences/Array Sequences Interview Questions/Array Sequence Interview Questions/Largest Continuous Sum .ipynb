{
 "cells": [
  {
   "cell_type": "markdown",
   "source": [
    "# Largest Continuous Sum\n",
    "\n",
    "## Problem\n",
    "Given an array of integers (positive and negative) find the largest continuous sum. \n",
    "\n",
    "## Solution\n",
    "\n",
    "Fill out your solution below:"
   ],
   "metadata": {}
  },
  {
   "cell_type": "code",
   "execution_count": 6,
   "source": [
    "def large_cont_sum(arr): \r\n",
    "    if len(arr)==0:\r\n",
    "        return 0\r\n",
    "\r\n",
    "    start = None\r\n",
    "    stop = None\r\n",
    "    sum =0\r\n",
    "    maxsum = 0\r\n",
    "\r\n",
    "    for num in arr:\r\n",
    "        if sum+num<0:\r\n",
    "            continue\r\n",
    "        if start is None and num>0:\r\n",
    "            start = num\r\n",
    "        if maxsum<sum+num:\r\n",
    "            maxsum = sum + num\r\n",
    "            stop = num\r\n",
    "\r\n",
    "        sum += num\r\n",
    "\r\n",
    "    print(\"start: {} stop: {}\".format(start,stop))\r\n",
    "    return maxsum"
   ],
   "outputs": [],
   "metadata": {
    "collapsed": false
   }
  },
  {
   "cell_type": "code",
   "execution_count": 7,
   "source": [
    "large_cont_sum([1,2,-1,3,4,10,10,-10,-1])"
   ],
   "outputs": [
    {
     "output_type": "stream",
     "name": "stdout",
     "text": [
      "start: 1 stop: 10\n"
     ]
    },
    {
     "output_type": "execute_result",
     "data": {
      "text/plain": [
       "29"
      ]
     },
     "metadata": {},
     "execution_count": 7
    }
   ],
   "metadata": {
    "collapsed": false
   }
  },
  {
   "cell_type": "code",
   "execution_count": 9,
   "source": [
    "large_cont_sum([-1,1])"
   ],
   "outputs": [
    {
     "output_type": "stream",
     "name": "stdout",
     "text": [
      "start: 1 stop: 1\n"
     ]
    },
    {
     "output_type": "execute_result",
     "data": {
      "text/plain": [
       "1"
      ]
     },
     "metadata": {},
     "execution_count": 9
    }
   ],
   "metadata": {}
  },
  {
   "cell_type": "markdown",
   "source": [
    "____\n",
    "Many times in an interview setting the question also requires you to report back the start and end points of the sum. Keep this in mind and see if you can solve that problem, we'll see it in the mock interview section of the course!"
   ],
   "metadata": {}
  },
  {
   "cell_type": "markdown",
   "source": [
    "# Test Your Solution"
   ],
   "metadata": {}
  },
  {
   "cell_type": "code",
   "execution_count": 10,
   "source": [
    "from nose.tools import assert_equal\r\n",
    "\r\n",
    "class LargeContTest(object):\r\n",
    "    def test(self,sol):\r\n",
    "        assert_equal(sol([1,2,-1,3,4,-1]),9)\r\n",
    "        assert_equal(sol([1,2,-1,3,4,10,10,-10,-1]),29)\r\n",
    "        assert_equal(sol([-1,1]),1)\r\n",
    "        print('ALL TEST CASES PASSED')\r\n",
    "        \r\n",
    "#Run Test\r\n",
    "t = LargeContTest()\r\n",
    "t.test(large_cont_sum)"
   ],
   "outputs": [
    {
     "output_type": "stream",
     "name": "stdout",
     "text": [
      "start: 1 stop: 4\n",
      "start: 1 stop: 10\n",
      "start: 1 stop: 1\n",
      "ALL TEST CASES PASSED\n"
     ]
    }
   ],
   "metadata": {
    "collapsed": false
   }
  },
  {
   "cell_type": "markdown",
   "source": [
    "## Good Job!"
   ],
   "metadata": {}
  }
 ],
 "metadata": {
  "kernelspec": {
   "name": "python3",
   "display_name": "Python 3.8.8 64-bit ('base': conda)"
  },
  "language_info": {
   "name": "python",
   "version": "3.8.8",
   "mimetype": "text/x-python",
   "codemirror_mode": {
    "name": "ipython",
    "version": 3
   },
   "pygments_lexer": "ipython3",
   "nbconvert_exporter": "python",
   "file_extension": ".py"
  },
  "interpreter": {
   "hash": "b3ba2566441a7c06988d0923437866b63cedc61552a5af99d1f4fb67d367b25f"
  }
 },
 "nbformat": 4,
 "nbformat_minor": 2
}