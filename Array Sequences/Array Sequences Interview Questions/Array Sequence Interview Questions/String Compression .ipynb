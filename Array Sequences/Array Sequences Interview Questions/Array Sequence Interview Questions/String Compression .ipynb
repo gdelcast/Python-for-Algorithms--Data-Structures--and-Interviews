{
 "cells": [
  {
   "cell_type": "markdown",
   "source": [
    "# String Compression\n",
    "\n",
    "## Problem\n",
    "\n",
    "Given a string in the form 'AAAABBBBCCCCCDDEEEE' compress it to become 'A4B4C5D2E4'. For this problem, you can falsely \"compress\" strings of single or double letters. For instance, it is okay for 'AAB' to return 'A2B1' even though this technically takes more space. \n",
    "\n",
    "The function should also be case sensitive, so that a string 'AAAaaa' returns 'A3a3'."
   ],
   "metadata": {}
  },
  {
   "cell_type": "markdown",
   "source": [
    "## Solution\n",
    "Fill out your solution below:"
   ],
   "metadata": {}
  },
  {
   "cell_type": "code",
   "execution_count": 56,
   "source": [
    "def compress(s):\r\n",
    "    if s=='':\r\n",
    "        return ''\r\n",
    "        \r\n",
    "    current_char = s[0]\r\n",
    "    count_char=0\r\n",
    "    final_count=\"\"\r\n",
    "    for i in range(len(s)):\r\n",
    "        if current_char==s[i]:\r\n",
    "            count_char +=1\r\n",
    "        if current_char!=s[i] or i+1==len(s):\r\n",
    "            final_count += current_char+str(count_char)\r\n",
    "            current_char = s[i]\r\n",
    "            count_char = 1\r\n",
    "    \r\n",
    "    return final_count\r\n",
    "            "
   ],
   "outputs": [],
   "metadata": {
    "collapsed": true
   }
  },
  {
   "cell_type": "code",
   "execution_count": 57,
   "source": [
    "compress('AAAAABBBBCCCC')"
   ],
   "outputs": [
    {
     "output_type": "execute_result",
     "data": {
      "text/plain": [
       "'A5B4C4'"
      ]
     },
     "metadata": {},
     "execution_count": 57
    }
   ],
   "metadata": {
    "collapsed": false
   }
  },
  {
   "cell_type": "markdown",
   "source": [
    "# Test Your Solution"
   ],
   "metadata": {}
  },
  {
   "cell_type": "code",
   "execution_count": 58,
   "source": [
    "\"\"\"\r\n",
    "RUN THIS CELL TO TEST YOUR SOLUTION\r\n",
    "\"\"\"\r\n",
    "from nose.tools import assert_equal\r\n",
    "\r\n",
    "class TestCompress(object):\r\n",
    "\r\n",
    "    def test(self, sol):\r\n",
    "        assert_equal(sol(''), '')\r\n",
    "        assert_equal(sol('AABBCC'), 'A2B2C2')\r\n",
    "        assert_equal(sol('AAABCCDDDDD'), 'A3B1C2D5')\r\n",
    "        print('ALL TEST CASES PASSED')\r\n",
    "\r\n",
    "# Run Tests\r\n",
    "t = TestCompress()\r\n",
    "t.test(compress)"
   ],
   "outputs": [
    {
     "output_type": "stream",
     "name": "stdout",
     "text": [
      "ALL TEST CASES PASSED\n"
     ]
    }
   ],
   "metadata": {
    "collapsed": false
   }
  },
  {
   "cell_type": "markdown",
   "source": [
    "## Good Job!"
   ],
   "metadata": {}
  }
 ],
 "metadata": {
  "kernelspec": {
   "name": "python3",
   "display_name": "Python 3.8.8 64-bit ('base': conda)"
  },
  "language_info": {
   "name": "python",
   "version": "3.8.8",
   "mimetype": "text/x-python",
   "codemirror_mode": {
    "name": "ipython",
    "version": 3
   },
   "pygments_lexer": "ipython3",
   "nbconvert_exporter": "python",
   "file_extension": ".py"
  },
  "interpreter": {
   "hash": "b3ba2566441a7c06988d0923437866b63cedc61552a5af99d1f4fb67d367b25f"
  }
 },
 "nbformat": 4,
 "nbformat_minor": 2
}