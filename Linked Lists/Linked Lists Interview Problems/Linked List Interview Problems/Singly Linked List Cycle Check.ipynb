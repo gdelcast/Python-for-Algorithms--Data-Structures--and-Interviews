{
 "cells": [
  {
   "cell_type": "markdown",
   "source": [
    "# Singly Linked List Cycle Check \n",
    "\n",
    "## Problem\n",
    "\n",
    "Given a singly linked list, write a function which takes in the first node in a singly linked list and returns a boolean indicating if the linked list contains a \"cycle\".\n",
    "\n",
    "A cycle is when a node's next point actually points back to a previous node in the list. This is also sometimes known as a circularly linked list.\n",
    "\n",
    "You've been given the Linked List Node class code:"
   ],
   "metadata": {}
  },
  {
   "cell_type": "code",
   "execution_count": 1,
   "source": [
    "class Node(object):\r\n",
    "    \r\n",
    "    def __init__(self,value):\r\n",
    "        \r\n",
    "        self.value = value\r\n",
    "        self.nextnode = None"
   ],
   "outputs": [],
   "metadata": {
    "collapsed": true
   }
  },
  {
   "cell_type": "markdown",
   "source": [
    "## Solution\n",
    "\n",
    "Fill out your solution:"
   ],
   "metadata": {}
  },
  {
   "cell_type": "code",
   "execution_count": 31,
   "source": [
    "def cycle_check(node):\r\n",
    "    if node is None or node.nextnode is None:\r\n",
    "        return False\r\n",
    "\r\n",
    "    flag1 = node\r\n",
    "    flag2 = node\r\n",
    "\r\n",
    "    while flag2.nextnode != None:\r\n",
    "        flag1 = flag1.nextnode\r\n",
    "        for i in range(2):\r\n",
    "            if flag2.nextnode is None:\r\n",
    "                break\r\n",
    "            flag2 = flag2.nextnode\r\n",
    "\r\n",
    "        if flag1 == flag2:\r\n",
    "            return True\r\n",
    "\r\n",
    "    return False"
   ],
   "outputs": [],
   "metadata": {
    "collapsed": true
   }
  },
  {
   "cell_type": "code",
   "execution_count": 33,
   "source": [
    "\"\"\"\r\n",
    "RUN THIS CELL TO TEST YOUR SOLUTION\r\n",
    "\"\"\"\r\n",
    "from nose.tools import assert_equal\r\n",
    "\r\n",
    "# CREATE CYCLE LIST\r\n",
    "a = Node(1)\r\n",
    "b = Node(2)\r\n",
    "c = Node(3)\r\n",
    "d = Node(4)\r\n",
    "e = Node(5)\r\n",
    "f = Node(6)\r\n",
    "\r\n",
    "a.nextnode = b\r\n",
    "b.nextnode = c\r\n",
    "c.nextnode = d\r\n",
    "d.nextnode = e\r\n",
    "e.nextnode = f\r\n",
    "f.nextnode = c # Cycle Here!\r\n",
    "\r\n",
    "\r\n",
    "# CREATE NON CYCLE LIST\r\n",
    "x = Node(1)\r\n",
    "y = Node(2)\r\n",
    "z = Node(3)\r\n",
    "\r\n",
    "x.nextnode = y\r\n",
    "y.nextnode = z\r\n",
    "\r\n",
    "\r\n",
    "#############\r\n",
    "class TestCycleCheck(object):\r\n",
    "    \r\n",
    "    def test(self,sol):\r\n",
    "        assert_equal(sol(a),True)\r\n",
    "        assert_equal(sol(x),False)\r\n",
    "        \r\n",
    "        print (\"ALL TEST CASES PASSED\")\r\n",
    "        \r\n",
    "# Run Tests\r\n",
    "\r\n",
    "t = TestCycleCheck()\r\n",
    "t.test(cycle_check)\r\n"
   ],
   "outputs": [
    {
     "output_type": "stream",
     "name": "stdout",
     "text": [
      "ALL TEST CASES PASSED\n"
     ]
    }
   ],
   "metadata": {
    "collapsed": false
   }
  },
  {
   "cell_type": "markdown",
   "source": [
    "## Good Job!"
   ],
   "metadata": {}
  },
  {
   "cell_type": "markdown",
   "source": [],
   "metadata": {}
  }
 ],
 "metadata": {
  "kernelspec": {
   "name": "python3",
   "display_name": "Python 3.8.8 64-bit ('base': conda)"
  },
  "language_info": {
   "name": "python",
   "version": "3.8.8",
   "mimetype": "text/x-python",
   "codemirror_mode": {
    "name": "ipython",
    "version": 3
   },
   "pygments_lexer": "ipython3",
   "nbconvert_exporter": "python",
   "file_extension": ".py"
  },
  "interpreter": {
   "hash": "b3ba2566441a7c06988d0923437866b63cedc61552a5af99d1f4fb67d367b25f"
  }
 },
 "nbformat": 4,
 "nbformat_minor": 2
}