{
 "cells": [
  {
   "cell_type": "markdown",
   "source": [
    "# Linked List Nth to Last Node \n",
    "\n",
    "## Problem Statement\n",
    "Write a function that takes a head node and an integer value **n** and then returns the nth to last node in the linked list. For example, given:"
   ],
   "metadata": {}
  },
  {
   "cell_type": "code",
   "execution_count": null,
   "source": [
    "class Node:\r\n",
    "\r\n",
    "    def __init__(self, value):\r\n",
    "        self.value = value\r\n",
    "        self.nextnode  = None"
   ],
   "outputs": [],
   "metadata": {
    "collapsed": true
   }
  },
  {
   "cell_type": "markdown",
   "source": [
    "**Example Input and Output:**"
   ],
   "metadata": {}
  },
  {
   "cell_type": "code",
   "execution_count": null,
   "source": [
    "a = Node(1)\r\n",
    "b = Node(2)\r\n",
    "c = Node(3)\r\n",
    "d = Node(4)\r\n",
    "e = Node(5)\r\n",
    "\r\n",
    "a.nextnode = b\r\n",
    "b.nextnode = c\r\n",
    "c.nextnode = d\r\n",
    "d.nextnode = e\r\n",
    "\r\n",
    "# This would return the node d with a value of 4, because its the 2nd to last node.\r\n",
    "target_node = nth_to_last_node(2, a) "
   ],
   "outputs": [],
   "metadata": {
    "collapsed": false
   }
  },
  {
   "cell_type": "code",
   "execution_count": null,
   "source": [
    "target_node.value"
   ],
   "outputs": [],
   "metadata": {
    "collapsed": false
   }
  },
  {
   "cell_type": "markdown",
   "source": [
    "## Solution\n",
    "Fill out your solution below:"
   ],
   "metadata": {}
  },
  {
   "cell_type": "code",
   "execution_count": 26,
   "source": [
    "# O(n) time complexity\r\n",
    "# O(n) space complexity\r\n",
    "def nth_to_last_node(n, head):\r\n",
    "    current = head\r\n",
    "    nodes = [current]\r\n",
    "    while current.nextnode is not None:\r\n",
    "        nodes.append(current.nextnode)\r\n",
    "        current = current.nextnode\r\n",
    "    \r\n",
    "    return nodes[len(nodes)-n]\r\n",
    "    "
   ],
   "outputs": [],
   "metadata": {
    "collapsed": true
   }
  },
  {
   "cell_type": "code",
   "execution_count": 35,
   "source": [
    "a = Node(1)\r\n",
    "b = Node(2)\r\n",
    "c = Node(3)\r\n",
    "d = Node(4)\r\n",
    "e = Node(5)\r\n",
    "\r\n",
    "a.nextnode = b\r\n",
    "b.nextnode = c\r\n",
    "c.nextnode = d\r\n",
    "d.nextnode = e\r\n",
    "\r\n",
    "target_node= nth_to_last_node(2, a)\r\n",
    "target_node.value"
   ],
   "outputs": [
    {
     "output_type": "execute_result",
     "data": {
      "text/plain": [
       "4"
      ]
     },
     "metadata": {},
     "execution_count": 35
    }
   ],
   "metadata": {}
  },
  {
   "cell_type": "code",
   "execution_count": 78,
   "source": [
    "# O(k+n) time complexity\r\n",
    "# O(1) space complexity\r\n",
    "def nth_to_last_node2(n, head):\r\n",
    "    current = head\r\n",
    "    count=1\r\n",
    "    while current.nextnode is not None:\r\n",
    "        count += 1\r\n",
    "        current = current.nextnode\r\n",
    "\r\n",
    "    current = head\r\n",
    "    \r\n",
    "    max = count - (n-1)\r\n",
    "    count=1\r\n",
    "    while current.nextnode is not None:\r\n",
    "        if count==max:\r\n",
    "            return current\r\n",
    "        count += 1\r\n",
    "        current = current.nextnode"
   ],
   "outputs": [],
   "metadata": {}
  },
  {
   "cell_type": "code",
   "execution_count": 79,
   "source": [
    "target_node= nth_to_last_node2(2, a)\r\n",
    "target_node.value"
   ],
   "outputs": [
    {
     "output_type": "execute_result",
     "data": {
      "text/plain": [
       "4"
      ]
     },
     "metadata": {},
     "execution_count": 79
    }
   ],
   "metadata": {}
  },
  {
   "cell_type": "markdown",
   "source": [
    "# Test Your Solution"
   ],
   "metadata": {}
  },
  {
   "cell_type": "code",
   "execution_count": 80,
   "source": [
    "\"\"\"\r\n",
    "RUN THIS CELL TO TEST YOUR SOLUTION AGAINST A TEST CASE \r\n",
    "\r\n",
    "PLEASE NOTE THIS IS JUST ONE CASE\r\n",
    "\"\"\"\r\n",
    "\r\n",
    "from nose.tools import assert_equal\r\n",
    "\r\n",
    "a = Node(1)\r\n",
    "b = Node(2)\r\n",
    "c = Node(3)\r\n",
    "d = Node(4)\r\n",
    "e = Node(5)\r\n",
    "\r\n",
    "a.nextnode = b\r\n",
    "b.nextnode = c\r\n",
    "c.nextnode = d\r\n",
    "d.nextnode = e\r\n",
    "\r\n",
    "####\r\n",
    "\r\n",
    "class TestNLast(object):\r\n",
    "    \r\n",
    "    def test(self,sol):\r\n",
    "        \r\n",
    "        assert_equal(sol(2,a),d)\r\n",
    "        print ('ALL TEST CASES PASSED')\r\n",
    "        \r\n",
    "# Run tests\r\n",
    "t = TestNLast()\r\n",
    "t.test(nth_to_last_node)"
   ],
   "outputs": [
    {
     "output_type": "stream",
     "name": "stdout",
     "text": [
      "ALL TEST CASES PASSED\n"
     ]
    }
   ],
   "metadata": {
    "collapsed": false
   }
  },
  {
   "cell_type": "code",
   "execution_count": 81,
   "source": [
    "t.test(nth_to_last_node2)"
   ],
   "outputs": [
    {
     "output_type": "stream",
     "name": "stdout",
     "text": [
      "ALL TEST CASES PASSED\n"
     ]
    }
   ],
   "metadata": {}
  },
  {
   "cell_type": "markdown",
   "source": [
    "## Good Job!"
   ],
   "metadata": {}
  }
 ],
 "metadata": {
  "kernelspec": {
   "name": "python3",
   "display_name": "Python 3.8.8 64-bit ('base': conda)"
  },
  "language_info": {
   "name": "python",
   "version": "3.8.8",
   "mimetype": "text/x-python",
   "codemirror_mode": {
    "name": "ipython",
    "version": 3
   },
   "pygments_lexer": "ipython3",
   "nbconvert_exporter": "python",
   "file_extension": ".py"
  },
  "interpreter": {
   "hash": "b3ba2566441a7c06988d0923437866b63cedc61552a5af99d1f4fb67d367b25f"
  }
 },
 "nbformat": 4,
 "nbformat_minor": 2
}