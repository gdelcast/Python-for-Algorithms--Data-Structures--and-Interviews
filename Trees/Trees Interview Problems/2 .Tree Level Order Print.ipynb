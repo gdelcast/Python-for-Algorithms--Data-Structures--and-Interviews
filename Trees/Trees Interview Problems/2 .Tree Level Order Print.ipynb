{
 "cells": [
  {
   "cell_type": "markdown",
   "source": [
    "# Tree Level Order Print \n",
    "\n",
    "Given a binary tree of integers, print it in level order. The output will contain space between the numbers in the same level, and new line between different levels. For example, if the tree is: \n",
    "___\n",
    "![title](tree_print.png)\n",
    "___\n",
    "The output should be: \n",
    "\n",
    "    1 \n",
    "    2 3 \n",
    "    4 5 6"
   ],
   "metadata": {}
  },
  {
   "cell_type": "markdown",
   "source": [
    "## Solution\n",
    "\n",
    "Fill out your solution below:"
   ],
   "metadata": {}
  },
  {
   "cell_type": "code",
   "execution_count": 7,
   "source": [
    "class Node:\n",
    "    def __init__(self, val=None):\n",
    "        self.left = None\n",
    "        self.right = None\n",
    "        self.val =  val "
   ],
   "outputs": [],
   "metadata": {
    "collapsed": true
   }
  },
  {
   "cell_type": "code",
   "execution_count": 62,
   "source": [
    "def levelOrderPrint(tree):\n",
    "    if not tree:\n",
    "        return\n",
    "\n",
    "    nodes = [tree]          # add tree/root node to a list array\n",
    "\n",
    "    rootCount = 1           # root level flag\n",
    "    levelCount = 0          # level counter\n",
    "\n",
    "    while nodes:\n",
    "        if rootCount==1 or levelCount==len(nodes):      # prints root & level values (checks how many nodes are array)\n",
    "            printStr = []\n",
    "            for n in nodes:\n",
    "                printStr.append(str(n.val))\n",
    "            print (\" \".join(printStr))\n",
    "            rootCount = None                            # remove root flag (only 1 print)\n",
    "            levelCount = 0                              # reset level count\n",
    "\n",
    "        currentNode=nodes[0]                            # work node to reference first element of array\n",
    "        \n",
    "        # append children to end of the array (whole next down level of currentNode)\n",
    "        if currentNode.left:                            # append children of left node to array\n",
    "            nodes.append(currentNode.left)\n",
    "            levelCount+=1                               # level counter increases per children\n",
    "\n",
    "        if currentNode.right:                           # append children of right node to array\n",
    "            nodes.append(currentNode.right)\n",
    "            levelCount+=1                               # level counter increases per children\n",
    "\n",
    "        del nodes[0]                                    # and delete worked node from array\n"
   ],
   "outputs": [],
   "metadata": {
    "collapsed": true
   }
  },
  {
   "cell_type": "code",
   "execution_count": 16,
   "source": [
    "def levelOrderPrint(tree):\n",
    "    if not tree:\n",
    "        return\n",
    "\n",
    "    nodes = [tree]          # add tree on first element of array\n",
    "    levelCount = 0          # level counter\n",
    "\n",
    "    print(nodes[0].val)     # print root node only\n",
    "\n",
    "    while nodes:\n",
    "        prStr = []\n",
    "        for n in nodes:\n",
    "            prStr.append(str(n.val))\n",
    "        if len(nodes)==levelCount:\n",
    "            print(\" \".join(prStr))  # print levels\n",
    "            levelCount =0 \n",
    "\n",
    "\n",
    "        currentNode = nodes[0]\n",
    "\n",
    "        if currentNode.left:\n",
    "            nodes.append(currentNode.left)\n",
    "            levelCount += 1\n",
    "        if currentNode.right:\n",
    "            nodes.append(currentNode.right)\n",
    "            levelCount += 1\n",
    "\n",
    "        del nodes[0]\n",
    "\n"
   ],
   "outputs": [],
   "metadata": {}
  },
  {
   "cell_type": "code",
   "execution_count": 17,
   "source": [
    "tree = Node(1)\n",
    "tree.right = Node(3)\n",
    "tree.left = Node(2)\n",
    "tree.left.left = Node(4)\n",
    "tree.right.left = Node(5)\n",
    "tree.right.right = Node(6)\n",
    "tree.right.right.left = Node(10)\n",
    "tree.right.right.right = Node(11)\n",
    "tree.left.left.left = Node(7)\n",
    "tree.right.left.right = Node(9)\n",
    "tree.right.left.left = Node(8)\n",
    "\n",
    "# array => 1 . 2  3 . 4  5  6 . 8  9  10  11\n",
    "\n",
    "levelOrderPrint(tree)\n"
   ],
   "outputs": [
    {
     "output_type": "stream",
     "name": "stdout",
     "text": [
      "1\n",
      "2 3\n",
      "4 5 6\n",
      "7 8 9 10 11\n"
     ]
    }
   ],
   "metadata": {}
  },
  {
   "cell_type": "code",
   "execution_count": 18,
   "source": [
    "tree = Node(8)\n",
    "tree.right = Node(10)\n",
    "tree.right.right = Node(14)\n",
    "tree.right.left = Node(9)\n",
    "tree.right.right.left = Node(13)\n",
    "tree.left = Node(3)\n",
    "tree.left.left = Node(1)\n",
    "tree.left.right = Node(6)\n",
    "tree.left.right.left = Node(4)\n",
    "tree.left.right.right = Node(7)\n",
    "\n",
    "# array => 8 . 3  10 . 1  6  9  14 . 4  7  13\n",
    "\n",
    "levelOrderPrint(tree)\n"
   ],
   "outputs": [
    {
     "output_type": "stream",
     "name": "stdout",
     "text": [
      "8\n",
      "3 10\n",
      "1 6 9 14\n",
      "4 7 13\n"
     ]
    }
   ],
   "metadata": {}
  }
 ],
 "metadata": {
  "kernelspec": {
   "name": "python3",
   "display_name": "Python 3.8.8 64-bit ('base': conda)"
  },
  "language_info": {
   "name": "python",
   "version": "3.8.8",
   "mimetype": "text/x-python",
   "codemirror_mode": {
    "name": "ipython",
    "version": 3
   },
   "pygments_lexer": "ipython3",
   "nbconvert_exporter": "python",
   "file_extension": ".py"
  },
  "interpreter": {
   "hash": "dca0ade3e726a953b501b15e8e990130d2b7799f14cfd9f4271676035ebe5511"
  }
 },
 "nbformat": 4,
 "nbformat_minor": 2
}