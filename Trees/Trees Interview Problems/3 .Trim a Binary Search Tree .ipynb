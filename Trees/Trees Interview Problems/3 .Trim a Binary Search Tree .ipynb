{
 "cells": [
  {
   "cell_type": "markdown",
   "source": [
    "# Trim a Binary Search Tree \n",
    "\n",
    "## Problem Statement\n",
    "\n",
    "Given the root of a binary search tree and 2 numbers min and max, trim the tree such that all the numbers in the new tree are between min and max (inclusive). The resulting tree should still be a valid binary search tree. So, if we get this tree as input:\n",
    "___\n",
    "\n",
    "![title](bst1.png)\n",
    "___\n",
    "and we’re given **min value as 5** and **max value as 13**, then the resulting binary search tree should be: \n",
    "___\n",
    "![title](bst_trim.png)\n",
    "___\n",
    "We should remove all the nodes whose value is not between min and max. \n",
    "\n",
    "___\n",
    "** Feel free to reference the lecture on Binary Search Tree for the node class, but what it more important here is the logic of your function. In which case your function should be in the form:**"
   ],
   "metadata": {}
  },
  {
   "cell_type": "code",
   "execution_count": 1,
   "source": [
    "import json\n",
    "class Node (object):\n",
    "    def __init__(self,value):\n",
    "        self.value = value\n",
    "        self.left = None\n",
    "        self.right = None\n",
    "    \n",
    "def printTree(node):\n",
    "    if not node:\n",
    "        return None\n",
    "    strNode = {}\n",
    "    strNode['value'] = node.value\n",
    "    strNode['left'] = None if not node.left else printTree(node.left)\n",
    "    strNode['right'] = None if not node.right else printTree(node.right)\n",
    "    return strNode\n",
    "\n",
    "\n",
    "tree = Node(8)\n",
    "tree.left = Node(3)\n",
    "tree.left.left = Node(1)\n",
    "tree.left.right = Node(6)\n",
    "tree.right = Node(10)\n",
    "tree.right.right = Node(14)\n",
    "tree.right.right.left = Node(13)\n",
    "tree.left.right.left = Node(4)\n",
    "tree.left.right.right = Node(7)\n",
    "\n",
    "printTree(tree)\n",
    "\n"
   ],
   "outputs": [
    {
     "output_type": "execute_result",
     "data": {
      "text/plain": [
       "{'value': 8,\n",
       " 'left': {'value': 3,\n",
       "  'left': {'value': 1, 'left': None, 'right': None},\n",
       "  'right': {'value': 6,\n",
       "   'left': {'value': 4, 'left': None, 'right': None},\n",
       "   'right': {'value': 7, 'left': None, 'right': None}}},\n",
       " 'right': {'value': 10,\n",
       "  'left': None,\n",
       "  'right': {'value': 14,\n",
       "   'left': {'value': 13, 'left': None, 'right': None},\n",
       "   'right': None}}}"
      ]
     },
     "metadata": {},
     "execution_count": 1
    }
   ],
   "metadata": {
    "collapsed": true
   }
  },
  {
   "cell_type": "code",
   "execution_count": 160,
   "source": [
    "# guillermo's try\n",
    "\n",
    "def trimBST(tree,minVal,maxVal):\n",
    "    if not tree:\n",
    "        return None\n",
    "\n",
    "    tree.left = trimBST(tree.left,minVal,maxVal)\n",
    "    tree.right = trimBST(tree.right,minVal,maxVal)\n",
    "\n",
    "    if minVal<= tree.value <= maxVal :\n",
    "        return tree\n",
    "    if tree.value < minVal:\n",
    "        return tree.right\n",
    "    if tree.value > maxVal:\n",
    "        return tree.left\n",
    "  \n",
    "\n",
    "\n"
   ],
   "outputs": [],
   "metadata": {}
  },
  {
   "cell_type": "code",
   "execution_count": 161,
   "source": [
    "printTree(trimBST(tree,5,13))"
   ],
   "outputs": [
    {
     "output_type": "execute_result",
     "data": {
      "text/plain": [
       "{'value': 8,\n",
       " 'left': {'value': 6,\n",
       "  'left': None,\n",
       "  'right': {'value': 7, 'left': None, 'right': None}},\n",
       " 'right': {'value': 10,\n",
       "  'left': None,\n",
       "  'right': {'value': 13, 'left': None, 'right': None}}}"
      ]
     },
     "metadata": {},
     "execution_count": 161
    }
   ],
   "metadata": {}
  },
  {
   "cell_type": "markdown",
   "source": [
    "---------------"
   ],
   "metadata": {}
  },
  {
   "cell_type": "markdown",
   "source": [
    "** There is no solution cell because the nature of the code should be more logical and a test would essentially give away the answer. Just focus your answer to fill out the logic of the solution using the methods described above **\n",
    "\n",
    "## Best of luck!"
   ],
   "metadata": {}
  },
  {
   "cell_type": "markdown",
   "source": [],
   "metadata": {}
  }
 ],
 "metadata": {
  "kernelspec": {
   "name": "python3",
   "display_name": "Python 3.8.8 64-bit ('base': conda)"
  },
  "language_info": {
   "name": "python",
   "version": "3.8.8",
   "mimetype": "text/x-python",
   "codemirror_mode": {
    "name": "ipython",
    "version": 3
   },
   "pygments_lexer": "ipython3",
   "nbconvert_exporter": "python",
   "file_extension": ".py"
  },
  "interpreter": {
   "hash": "dca0ade3e726a953b501b15e8e990130d2b7799f14cfd9f4271676035ebe5511"
  }
 },
 "nbformat": 4,
 "nbformat_minor": 2
}