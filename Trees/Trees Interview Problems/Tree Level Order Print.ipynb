{
 "cells": [
  {
   "cell_type": "markdown",
   "source": [
    "# Tree Level Order Print \n",
    "\n",
    "Given a binary tree of integers, print it in level order. The output will contain space between the numbers in the same level, and new line between different levels. For example, if the tree is: \n",
    "___\n",
    "![title](tree_print.png)\n",
    "___\n",
    "The output should be: \n",
    "\n",
    "    1 \n",
    "    2 3 \n",
    "    4 5 6"
   ],
   "metadata": {}
  },
  {
   "cell_type": "markdown",
   "source": [
    "## Solution\n",
    "\n",
    "Fill out your solution below:"
   ],
   "metadata": {}
  },
  {
   "cell_type": "code",
   "execution_count": 1,
   "source": [
    "class Node:\r\n",
    "    def __init__(self, val=None):\r\n",
    "        self.left = None\r\n",
    "        self.right = None\r\n",
    "        self.val =  val "
   ],
   "outputs": [],
   "metadata": {
    "collapsed": true
   }
  },
  {
   "cell_type": "code",
   "execution_count": 62,
   "source": [
    "def levelOrderPrint(tree):\r\n",
    "    if not tree:\r\n",
    "        return\r\n",
    "\r\n",
    "    nodes = [tree]          # add tree/root node to a list array\r\n",
    "\r\n",
    "    rootCount = 1           # root level flag\r\n",
    "    levelCount = 0          # level counter\r\n",
    "\r\n",
    "    while nodes:\r\n",
    "        if rootCount==1 or levelCount==len(nodes):      # prints root & level values (checks how many nodes are array)\r\n",
    "            printStr = []\r\n",
    "            for n in nodes:\r\n",
    "                printStr.append(str(n.val))\r\n",
    "            print (\" \".join(printStr))\r\n",
    "            rootCount = None                            # remove root flag (only 1 print)\r\n",
    "            levelCount = 0                              # reset level count\r\n",
    "\r\n",
    "        currentNode=nodes[0]                            # work node to reference first element of array\r\n",
    "        \r\n",
    "        # append children to end of the array (whole next down level of currentNode)\r\n",
    "        if currentNode.left:                            # append children of left node to array\r\n",
    "            nodes.append(currentNode.left)\r\n",
    "            levelCount+=1                               # level counter increases per children\r\n",
    "\r\n",
    "        if currentNode.right:                           # append children of right node to array\r\n",
    "            nodes.append(currentNode.right)\r\n",
    "            levelCount+=1                               # level counter increases per children\r\n",
    "\r\n",
    "        del nodes[0]                                    # and delete worked node from array\r\n"
   ],
   "outputs": [],
   "metadata": {
    "collapsed": true
   }
  },
  {
   "cell_type": "code",
   "execution_count": 63,
   "source": [
    "tree = Node(1)\r\n",
    "tree.right = Node(3)\r\n",
    "tree.left = Node(2)\r\n",
    "tree.left.left = Node(4)\r\n",
    "tree.right.left = Node(5)\r\n",
    "tree.right.right = Node(6)\r\n",
    "tree.right.right.left = Node(10)\r\n",
    "tree.right.right.right = Node(11)\r\n",
    "tree.left.left.left = Node(7)\r\n",
    "tree.right.left.right = Node(9)\r\n",
    "tree.right.left.left = Node(8)\r\n",
    "\r\n",
    "# array => 1 . 2  3 . 4  5  6 . 8  9  10  11\r\n",
    "\r\n",
    "levelOrderPrint(tree)\r\n"
   ],
   "outputs": [
    {
     "output_type": "stream",
     "name": "stdout",
     "text": [
      "1\n",
      "2 3\n",
      "4 5 6\n",
      "7 8 9 10 11\n"
     ]
    }
   ],
   "metadata": {}
  },
  {
   "cell_type": "code",
   "execution_count": 64,
   "source": [
    "tree = Node(8)\r\n",
    "tree.right = Node(10)\r\n",
    "tree.right.right = Node(14)\r\n",
    "tree.right.left = Node(9)\r\n",
    "tree.right.right.left = Node(13)\r\n",
    "tree.left = Node(3)\r\n",
    "tree.left.left = Node(1)\r\n",
    "tree.left.right = Node(6)\r\n",
    "tree.left.right.left = Node(4)\r\n",
    "tree.left.right.right = Node(7)\r\n",
    "\r\n",
    "# array => 8 . 3  10 . 1  6  9  14 . 4  7  13\r\n",
    "\r\n",
    "levelOrderPrint(tree)\r\n"
   ],
   "outputs": [
    {
     "output_type": "stream",
     "name": "stdout",
     "text": [
      "8\n",
      "3 10\n",
      "1 6 9 14\n",
      "4 7 13\n"
     ]
    }
   ],
   "metadata": {}
  },
  {
   "cell_type": "code",
   "execution_count": null,
   "source": [],
   "outputs": [],
   "metadata": {}
  },
  {
   "cell_type": "code",
   "execution_count": null,
   "source": [],
   "outputs": [],
   "metadata": {}
  }
 ],
 "metadata": {
  "kernelspec": {
   "name": "python3",
   "display_name": "Python 3.8.8 64-bit ('base': conda)"
  },
  "language_info": {
   "codemirror_mode": {
    "name": "ipython",
    "version": 2
   },
   "file_extension": ".py",
   "mimetype": "text/x-python",
   "name": "python",
   "nbconvert_exporter": "python",
   "pygments_lexer": "ipython2",
   "version": "3.8.8"
  },
  "interpreter": {
   "hash": "b3ba2566441a7c06988d0923437866b63cedc61552a5af99d1f4fb67d367b25f"
  }
 },
 "nbformat": 4,
 "nbformat_minor": 2
}