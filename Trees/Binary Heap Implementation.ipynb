{
 "cells": [
  {
   "cell_type": "markdown",
   "source": [
    "# Binary Heap Implementation\n",
    "\n",
    "Here is the reference code for the Binary Heap Implementation. Make sure to refer to the video lecture for the full explanation!"
   ],
   "metadata": {}
  },
  {
   "cell_type": "markdown",
   "source": [
    "### Binary Heap Operations\n",
    "**The basic operations we will implement for our binary heap are as follows:**\n",
    "\n",
    "* BinaryHeap() creates a new, empty, binary heap.\n",
    "* insert(k) adds a new item to the heap.\n",
    "* findMin() returns the item with the minimum key value, leaving item in the heap.\n",
    "* delMin() returns the item with the minimum key value, removing the item from the heap.\n",
    "* isEmpty() returns true if the heap is empty, false otherwise.\n",
    "* size() returns the number of items in the heap.\n",
    "* buildHeap(list) builds a new heap from a list of keys."
   ],
   "metadata": {}
  },
  {
   "cell_type": "code",
   "execution_count": 1,
   "source": [
    "class BinHeap:\r\n",
    "    def __init__(self):\r\n",
    "        self.heapList = [0]\r\n",
    "        self.currentSize = 0\r\n",
    "\r\n",
    "\r\n",
    "    def percUp(self,i):\r\n",
    "        \r\n",
    "        while i // 2 > 0:\r\n",
    "            \r\n",
    "            if self.heapList[i] < self.heapList[i // 2]:\r\n",
    "                \r\n",
    "            \r\n",
    "                tmp = self.heapList[i // 2]\r\n",
    "                self.heapList[i // 2] = self.heapList[i]\r\n",
    "                self.heapList[i] = tmp\r\n",
    "            i = i // 2\r\n",
    "\r\n",
    "    def insert(self,k):\r\n",
    "        \r\n",
    "        self.heapList.append(k)\r\n",
    "        self.currentSize = self.currentSize + 1\r\n",
    "        self.percUp(self.currentSize)\r\n",
    "\r\n",
    "    def percDown(self,i):\r\n",
    "        \r\n",
    "        while (i * 2) <= self.currentSize:\r\n",
    "            \r\n",
    "            mc = self.minChild(i)\r\n",
    "            if self.heapList[i] > self.heapList[mc]:\r\n",
    "                \r\n",
    "                tmp = self.heapList[i]\r\n",
    "                self.heapList[i] = self.heapList[mc]\r\n",
    "                self.heapList[mc] = tmp\r\n",
    "            i = mc\r\n",
    "\r\n",
    "    def minChild(self,i):\r\n",
    "        \r\n",
    "        if i * 2 + 1 > self.currentSize:\r\n",
    "            \r\n",
    "            return i * 2\r\n",
    "        else:\r\n",
    "            \r\n",
    "            if self.heapList[i*2] < self.heapList[i*2+1]:\r\n",
    "                return i * 2\r\n",
    "            else:\r\n",
    "                return i * 2 + 1\r\n",
    "\r\n",
    "    def delMin(self):\r\n",
    "        retval = self.heapList[1]\r\n",
    "        self.heapList[1] = self.heapList[self.currentSize]\r\n",
    "        self.currentSize = self.currentSize - 1\r\n",
    "        self.heapList.pop()\r\n",
    "        self.percDown(1)\r\n",
    "        return retval\r\n",
    "\r\n",
    "    def buildHeap(self,alist):\r\n",
    "        i = len(alist) // 2\r\n",
    "        self.currentSize = len(alist)\r\n",
    "        self.heapList = [0] + alist[:]\r\n",
    "        while (i > 0):\r\n",
    "            self.percDown(i)\r\n",
    "            i = i - 1"
   ],
   "outputs": [],
   "metadata": {
    "collapsed": true
   }
  },
  {
   "cell_type": "code",
   "execution_count": 12,
   "source": [
    "heap = BinHeap()\r\n",
    "heap.insert(5)\r\n",
    "heap.insert(3)\r\n",
    "heap.insert(1)\r\n",
    "heap.insert(8)\r\n",
    "heap.insert(7)\r\n",
    "heap.insert(9)\r\n",
    "heap.heapList\r\n",
    "heap.delMin()\r\n",
    "heap.heapList\r\n"
   ],
   "outputs": [
    {
     "output_type": "execute_result",
     "data": {
      "text/plain": [
       "[0, 3, 5, 9, 8, 7]"
      ]
     },
     "metadata": {},
     "execution_count": 12
    }
   ],
   "metadata": {}
  },
  {
   "cell_type": "code",
   "execution_count": 10,
   "source": [
    "2//2"
   ],
   "outputs": [
    {
     "output_type": "execute_result",
     "data": {
      "text/plain": [
       "1"
      ]
     },
     "metadata": {},
     "execution_count": 10
    }
   ],
   "metadata": {}
  },
  {
   "cell_type": "code",
   "execution_count": 8,
   "source": [
    "7%3"
   ],
   "outputs": [
    {
     "output_type": "execute_result",
     "data": {
      "text/plain": [
       "1"
      ]
     },
     "metadata": {},
     "execution_count": 8
    }
   ],
   "metadata": {}
  },
  {
   "cell_type": "code",
   "execution_count": 2,
   "source": [
    "arr = [0,0,3]\r\n",
    "print(arr[0]==arr[1])"
   ],
   "outputs": [
    {
     "output_type": "stream",
     "name": "stdout",
     "text": [
      "True\n"
     ]
    }
   ],
   "metadata": {}
  },
  {
   "cell_type": "code",
   "execution_count": 3,
   "source": [
    "print(arr[2]==arr[1])"
   ],
   "outputs": [
    {
     "output_type": "stream",
     "name": "stdout",
     "text": [
      "False\n"
     ]
    }
   ],
   "metadata": {}
  },
  {
   "cell_type": "code",
   "execution_count": 4,
   "source": [
    "print(arr[2]==arr[7])"
   ],
   "outputs": [
    {
     "output_type": "error",
     "ename": "IndexError",
     "evalue": "list index out of range",
     "traceback": [
      "\u001b[1;31m---------------------------------------------------------------------------\u001b[0m",
      "\u001b[1;31mIndexError\u001b[0m                                Traceback (most recent call last)",
      "\u001b[1;32mC:\\Users\\GDELCA~1\\AppData\\Local\\Temp/ipykernel_29044/3569575755.py\u001b[0m in \u001b[0;36m<module>\u001b[1;34m\u001b[0m\n\u001b[1;32m----> 1\u001b[1;33m \u001b[0mprint\u001b[0m\u001b[1;33m(\u001b[0m\u001b[0marr\u001b[0m\u001b[1;33m[\u001b[0m\u001b[1;36m2\u001b[0m\u001b[1;33m]\u001b[0m\u001b[1;33m==\u001b[0m\u001b[0marr\u001b[0m\u001b[1;33m[\u001b[0m\u001b[1;36m7\u001b[0m\u001b[1;33m]\u001b[0m\u001b[1;33m)\u001b[0m\u001b[1;33m\u001b[0m\u001b[1;33m\u001b[0m\u001b[0m\n\u001b[0m",
      "\u001b[1;31mIndexError\u001b[0m: list index out of range"
     ]
    }
   ],
   "metadata": {}
  },
  {
   "cell_type": "code",
   "execution_count": null,
   "source": [],
   "outputs": [],
   "metadata": {}
  }
 ],
 "metadata": {
  "kernelspec": {
   "name": "python3",
   "display_name": "Python 3.8.8 64-bit ('base': conda)"
  },
  "language_info": {
   "name": "python",
   "version": "3.8.8",
   "mimetype": "text/x-python",
   "codemirror_mode": {
    "name": "ipython",
    "version": 3
   },
   "pygments_lexer": "ipython3",
   "nbconvert_exporter": "python",
   "file_extension": ".py"
  },
  "interpreter": {
   "hash": "b3ba2566441a7c06988d0923437866b63cedc61552a5af99d1f4fb67d367b25f"
  }
 },
 "nbformat": 4,
 "nbformat_minor": 2
}