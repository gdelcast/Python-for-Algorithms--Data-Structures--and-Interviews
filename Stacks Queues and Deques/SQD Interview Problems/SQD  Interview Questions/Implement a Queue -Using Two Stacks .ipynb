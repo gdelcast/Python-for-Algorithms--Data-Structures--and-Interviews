{
 "cells": [
  {
   "cell_type": "markdown",
   "source": [
    "# Implement a Queue - Using Two Stacks\n",
    "\n",
    "Given the Stack class below, implement a Queue class using **two** stacks! Note, this is a \"classic\" interview problem. Use a Python list data structure as your Stack."
   ],
   "metadata": {}
  },
  {
   "cell_type": "code",
   "execution_count": 30,
   "source": [
    "# Uses lists instead of your own Stack class.\r\n",
    "stack1 = []\r\n",
    "stack2 = []"
   ],
   "outputs": [],
   "metadata": {
    "collapsed": true
   }
  },
  {
   "cell_type": "markdown",
   "source": [
    "## Solution\n",
    "\n",
    "Fill out your solution below:"
   ],
   "metadata": {}
  },
  {
   "cell_type": "code",
   "execution_count": 59,
   "source": [
    "class Queue2Stacks(object):\r\n",
    "    \r\n",
    "    def __init__(self):\r\n",
    "        \r\n",
    "        # Two Stacks\r\n",
    "        self.stackIN = []\r\n",
    "        self.stackOUT = []\r\n",
    "     \r\n",
    "    def enqueue(self,element):\r\n",
    "        self.stackIN.append(element)\r\n",
    "\r\n",
    "    def dequeue(self):\r\n",
    "        while self.stackIN:                             #reverse stack into queue\r\n",
    "            self.stackOUT.append(self.stackIN.pop())\r\n",
    "\r\n",
    "        if self.stackOUT:\r\n",
    "            out = self.stackOUT.pop()                       #pop last item in queue\r\n",
    "        else:\r\n",
    "            return False\r\n",
    "\r\n",
    "        while self.stackOUT:                             #reverse back queue into stack\r\n",
    "            self.stackIN.append(self.stackOUT.pop())\r\n",
    "       \r\n",
    "        #print(self.stackIN)\r\n",
    "        return out\r\n",
    "    "
   ],
   "outputs": [],
   "metadata": {
    "collapsed": true
   }
  },
  {
   "cell_type": "code",
   "execution_count": 62,
   "source": [
    "q = Queue2Stacks()\r\n",
    "\r\n",
    "for i in range(5):\r\n",
    "    q.enqueue(i)\r\n",
    "    \r\n",
    "for i in range(2):\r\n",
    "    print(q.dequeue())\r\n",
    "\r\n",
    "for i in range(5,20):\r\n",
    "    q.enqueue(i)\r\n",
    "\r\n",
    "for i in range(10):\r\n",
    "    print(q.dequeue())\r\n",
    "\r\n",
    "q.stackIN\r\n"
   ],
   "outputs": [
    {
     "output_type": "stream",
     "name": "stdout",
     "text": [
      "0\n",
      "1\n",
      "2\n",
      "3\n",
      "4\n",
      "5\n",
      "6\n",
      "7\n",
      "8\n",
      "9\n",
      "10\n",
      "11\n"
     ]
    },
    {
     "output_type": "execute_result",
     "data": {
      "text/plain": [
       "[12, 13, 14, 15, 16, 17, 18, 19]"
      ]
     },
     "metadata": {},
     "execution_count": 62
    }
   ],
   "metadata": {}
  },
  {
   "cell_type": "markdown",
   "source": [
    "# Test Your Solution\n",
    "\n",
    "You should be able to tell with your current knowledge of Stacks and Queues if this is working as it should. For example, the following should print as such:"
   ],
   "metadata": {}
  },
  {
   "cell_type": "code",
   "execution_count": 63,
   "source": [
    "\"\"\"\r\n",
    "RUN THIS CELL TO CHECK THAT YOUR SOLUTION OUTPUT MAKES SENSE AND BEHAVES AS A QUEUE\r\n",
    "\"\"\"\r\n",
    "q = Queue2Stacks()\r\n",
    "\r\n",
    "for i in range(5):\r\n",
    "    q.enqueue(i)\r\n",
    "    \r\n",
    "for i in range(7):\r\n",
    "    print(q.dequeue())"
   ],
   "outputs": [
    {
     "output_type": "stream",
     "name": "stdout",
     "text": [
      "0\n",
      "1\n",
      "2\n",
      "3\n",
      "4\n",
      "False\n",
      "False\n"
     ]
    }
   ],
   "metadata": {
    "collapsed": false
   }
  },
  {
   "cell_type": "markdown",
   "source": [
    "## Good Job!"
   ],
   "metadata": {}
  },
  {
   "cell_type": "markdown",
   "source": [],
   "metadata": {}
  }
 ],
 "metadata": {
  "kernelspec": {
   "name": "python3",
   "display_name": "Python 3.8.8 64-bit ('base': conda)"
  },
  "language_info": {
   "name": "python",
   "version": "3.8.8",
   "mimetype": "text/x-python",
   "codemirror_mode": {
    "name": "ipython",
    "version": 3
   },
   "pygments_lexer": "ipython3",
   "nbconvert_exporter": "python",
   "file_extension": ".py"
  },
  "interpreter": {
   "hash": "b3ba2566441a7c06988d0923437866b63cedc61552a5af99d1f4fb67d367b25f"
  }
 },
 "nbformat": 4,
 "nbformat_minor": 2
}