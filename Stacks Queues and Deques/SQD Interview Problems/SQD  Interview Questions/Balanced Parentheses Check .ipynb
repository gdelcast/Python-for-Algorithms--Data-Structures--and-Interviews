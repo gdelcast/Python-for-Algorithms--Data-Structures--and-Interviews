{
 "cells": [
  {
   "cell_type": "markdown",
   "source": [
    "# Balanced Parentheses Check \r\n",
    "\r\n",
    "## Problem Statement\r\n",
    "\r\n",
    "Given a string of opening and closing parentheses, check whether it’s balanced. We have 3 types of parentheses: round brackets: (), square brackets: [], and curly brackets: {}. Assume that the string doesn’t contain any other character than these, no spaces words or numbers. As a reminder, balanced parentheses require every opening parenthesis to be closed in the reverse order opened. For example ‘([])’ is balanced but ‘([)]’ is not. \r\n",
    "\r\n",
    "\r\n",
    "You can assume the input string has no spaces.\r\n",
    "\r\n",
    "## Solution\r\n",
    "\r\n",
    "Fill out your solution below:"
   ],
   "metadata": {}
  },
  {
   "cell_type": "code",
   "execution_count": 93,
   "source": [
    "def balance_check(s):\r\n",
    "    if s==None or len(s)%2!=0:  #checks if string is empty or not even\r\n",
    "        return False\r\n",
    "\r\n",
    "    valid = [('(',')'),('[',']'),('{','}')]     ######### USING SET INSTEAD OF ARRAY\r\n",
    "    \r\n",
    "    items = []\r\n",
    "    for c in s:\r\n",
    "        #checks if char is an opening char\r\n",
    "        if c in [o[0] for o in valid]:  #this loop returns the 1st valid pair characters\r\n",
    "            items.append(c)             # append into the items[] the opening char\r\n",
    "            \r\n",
    "        #if char is closing\r\n",
    "        else:\r\n",
    "            # check if (opening, closing) set is in valid array\r\n",
    "            if len(items)==0 or (items[len(items)-1] , c) not in valid:\r\n",
    "                return False\r\n",
    "            else:\r\n",
    "                items.pop()\r\n",
    "\r\n",
    "    return True"
   ],
   "outputs": [],
   "metadata": {
    "collapsed": true
   }
  },
  {
   "cell_type": "code",
   "execution_count": 94,
   "source": [
    "def balance_check2(s):\r\n",
    "    if s==None or len(s)%2!=0:  #checks if string is empty or not even\r\n",
    "        return False\r\n",
    "\r\n",
    "    valid = [['(',')'],['[',']'],['{','}']]\r\n",
    "    #return [x[0] for x in valid]\r\n",
    "    #return [x[0] for x in valid if x[1]=='}'][0]\r\n",
    "    \r\n",
    "    items = []\r\n",
    "    for c in s:\r\n",
    "        #checks if char is an opening char\r\n",
    "        if c in [o[0] for o in valid]:  #this loop returns the 1st valid pair characters\r\n",
    "            items.append(c)             # append into the items[] the opening char\r\n",
    "            \r\n",
    "        #if char is a closing\r\n",
    "        else:\r\n",
    "            #search for the valid opening pair\r\n",
    "            valid_pair=\"\"\r\n",
    "            for f in valid:\r\n",
    "                if f[1]==c:\r\n",
    "                    valid_pair = f[0]\r\n",
    "\r\n",
    "            # check if previous item in array is the valid \r\n",
    "            if len(items)==0 or items[len(items)-1] != valid_pair:\r\n",
    "                return False\r\n",
    "            else:\r\n",
    "                items.pop()\r\n",
    "\r\n",
    "    return True"
   ],
   "outputs": [],
   "metadata": {}
  },
  {
   "cell_type": "code",
   "execution_count": 95,
   "source": [
    "balance_check('[]]')\r\n"
   ],
   "outputs": [
    {
     "output_type": "execute_result",
     "data": {
      "text/plain": [
       "False"
      ]
     },
     "metadata": {},
     "execution_count": 95
    }
   ],
   "metadata": {}
  },
  {
   "cell_type": "code",
   "execution_count": 96,
   "source": [
    "balance_check('[]')"
   ],
   "outputs": [
    {
     "output_type": "execute_result",
     "data": {
      "text/plain": [
       "True"
      ]
     },
     "metadata": {},
     "execution_count": 96
    }
   ],
   "metadata": {
    "collapsed": false
   }
  },
  {
   "cell_type": "code",
   "execution_count": 97,
   "source": [
    "balance_check('[](){([[[]]])}')"
   ],
   "outputs": [
    {
     "output_type": "execute_result",
     "data": {
      "text/plain": [
       "True"
      ]
     },
     "metadata": {},
     "execution_count": 97
    }
   ],
   "metadata": {
    "collapsed": false
   }
  },
  {
   "cell_type": "code",
   "execution_count": 98,
   "source": [
    "balance_check('()(){]}')"
   ],
   "outputs": [
    {
     "output_type": "execute_result",
     "data": {
      "text/plain": [
       "False"
      ]
     },
     "metadata": {},
     "execution_count": 98
    }
   ],
   "metadata": {
    "collapsed": false
   }
  },
  {
   "cell_type": "markdown",
   "source": [
    "# Test Your Solution"
   ],
   "metadata": {}
  },
  {
   "cell_type": "code",
   "execution_count": 99,
   "source": [
    "\"\"\"\r\n",
    "RUN THIS CELL TO TEST YOUR SOLUTION\r\n",
    "\"\"\"\r\n",
    "from nose.tools import assert_equal\r\n",
    "\r\n",
    "class TestBalanceCheck(object):\r\n",
    "    \r\n",
    "    def test(self,sol):\r\n",
    "        assert_equal(sol('[](){([[[]]])}('),False)\r\n",
    "        assert_equal(sol('[{{{(())}}}]((()))'),True)\r\n",
    "        assert_equal(sol('[[[]])]'),False)\r\n",
    "        print('ALL TEST CASES PASSED')\r\n",
    "        \r\n",
    "# Run Tests\r\n",
    "\r\n",
    "t = TestBalanceCheck()\r\n",
    "t.test(balance_check)"
   ],
   "outputs": [
    {
     "output_type": "stream",
     "name": "stdout",
     "text": [
      "ALL TEST CASES PASSED\n"
     ]
    }
   ],
   "metadata": {
    "collapsed": false
   }
  },
  {
   "cell_type": "markdown",
   "source": [
    "## Good Job!"
   ],
   "metadata": {}
  }
 ],
 "metadata": {
  "kernelspec": {
   "name": "python3",
   "display_name": "Python 3.8.8 64-bit ('base': conda)"
  },
  "language_info": {
   "name": "python",
   "version": "3.8.8",
   "mimetype": "text/x-python",
   "codemirror_mode": {
    "name": "ipython",
    "version": 3
   },
   "pygments_lexer": "ipython3",
   "nbconvert_exporter": "python",
   "file_extension": ".py"
  },
  "interpreter": {
   "hash": "b3ba2566441a7c06988d0923437866b63cedc61552a5af99d1f4fb67d367b25f"
  }
 },
 "nbformat": 4,
 "nbformat_minor": 2
}