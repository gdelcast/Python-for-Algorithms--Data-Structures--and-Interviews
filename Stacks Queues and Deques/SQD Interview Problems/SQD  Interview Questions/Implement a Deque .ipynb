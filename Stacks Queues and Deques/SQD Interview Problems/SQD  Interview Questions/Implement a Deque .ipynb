{
 "cells": [
  {
   "cell_type": "markdown",
   "source": [
    "# Implement a Deque \n",
    "\n",
    "Finally, implement a Deque class! It should be able to do the following:\n",
    "\n",
    "* Check if its empty\n",
    "* Add to both front and rear\n",
    "* Remove from Front and Rear\n",
    "* Check the Size"
   ],
   "metadata": {}
  },
  {
   "cell_type": "code",
   "execution_count": 1,
   "source": [
    "class Deque(object):\r\n",
    "    def __init__(self):\r\n",
    "        self.items = []\r\n",
    "\r\n",
    "    def isEmpty(self):\r\n",
    "        return [True if len(self.items)==0 else False]\r\n",
    "\r\n",
    "    def addFront(self, value):\r\n",
    "        self.items.append(value)\r\n",
    "\r\n",
    "    def addRear(self, value):\r\n",
    "        self.items.insert(0,value)\r\n",
    "\r\n",
    "    def removeFront(self):\r\n",
    "        self.items.pop()\r\n",
    "    \r\n",
    "    def removeRear(self):\r\n",
    "        del self.items[0]\r\n",
    "\r\n",
    "    def peek(self):\r\n",
    "        return [self.items[len(self.items)-1]]\r\n",
    "\r\n",
    "    def size(self):\r\n",
    "        return len(self.items)"
   ],
   "outputs": [],
   "metadata": {
    "collapsed": true
   }
  },
  {
   "cell_type": "code",
   "execution_count": 2,
   "source": [
    "d = Deque()"
   ],
   "outputs": [],
   "metadata": {}
  },
  {
   "cell_type": "code",
   "execution_count": 3,
   "source": [
    "d.addFront('x')\r\n",
    "d.addFront('y')\r\n",
    "d.addFront('z')\r\n",
    "d.addRear('3')\r\n",
    "d.addRear('2')\r\n",
    "d.addRear('1')"
   ],
   "outputs": [],
   "metadata": {}
  },
  {
   "cell_type": "code",
   "execution_count": 5,
   "source": [
    "d.items"
   ],
   "outputs": [
    {
     "output_type": "execute_result",
     "data": {
      "text/plain": [
       "['1', '2', '3', 'x', 'y', 'z']"
      ]
     },
     "metadata": {},
     "execution_count": 5
    }
   ],
   "metadata": {}
  },
  {
   "cell_type": "code",
   "execution_count": 6,
   "source": [
    "d.isEmpty()"
   ],
   "outputs": [
    {
     "output_type": "execute_result",
     "data": {
      "text/plain": [
       "[False]"
      ]
     },
     "metadata": {},
     "execution_count": 6
    }
   ],
   "metadata": {}
  },
  {
   "cell_type": "code",
   "execution_count": 7,
   "source": [
    "d.size()"
   ],
   "outputs": [
    {
     "output_type": "execute_result",
     "data": {
      "text/plain": [
       "6"
      ]
     },
     "metadata": {},
     "execution_count": 7
    }
   ],
   "metadata": {}
  },
  {
   "cell_type": "code",
   "execution_count": 8,
   "source": [
    "d.removeFront()"
   ],
   "outputs": [],
   "metadata": {}
  },
  {
   "cell_type": "code",
   "execution_count": 9,
   "source": [
    "d.removeRear()"
   ],
   "outputs": [],
   "metadata": {}
  },
  {
   "cell_type": "code",
   "execution_count": 10,
   "source": [
    "d.items"
   ],
   "outputs": [
    {
     "output_type": "execute_result",
     "data": {
      "text/plain": [
       "['2', '3', 'x', 'y']"
      ]
     },
     "metadata": {},
     "execution_count": 10
    }
   ],
   "metadata": {}
  },
  {
   "cell_type": "code",
   "execution_count": null,
   "source": [],
   "outputs": [],
   "metadata": {}
  }
 ],
 "metadata": {
  "kernelspec": {
   "name": "python3",
   "display_name": "Python 3.8.8 64-bit ('base': conda)"
  },
  "language_info": {
   "name": "python",
   "version": "3.8.8",
   "mimetype": "text/x-python",
   "codemirror_mode": {
    "name": "ipython",
    "version": 3
   },
   "pygments_lexer": "ipython3",
   "nbconvert_exporter": "python",
   "file_extension": ".py"
  },
  "interpreter": {
   "hash": "b3ba2566441a7c06988d0923437866b63cedc61552a5af99d1f4fb67d367b25f"
  }
 },
 "nbformat": 4,
 "nbformat_minor": 2
}