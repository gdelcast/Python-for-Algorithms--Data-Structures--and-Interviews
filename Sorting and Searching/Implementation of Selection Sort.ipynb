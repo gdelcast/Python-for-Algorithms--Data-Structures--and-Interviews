{
 "cells": [
  {
   "cell_type": "markdown",
   "source": [
    "# Implementation of Selection Sort\n",
    "\n",
    "The selection sort improves on the bubble sort by making only one exchange for every pass through the list. In order to do this, a selection sort looks for the largest value as it makes a pass and, after completing the pass, places it in the proper location. As with a bubble sort, after the first pass, the largest item is in the correct place. After the second pass, the next largest is in place. This process continues and requires n−1 passes to sort n items, since the final item must be in place after the (n−1) st pass."
   ],
   "metadata": {}
  },
  {
   "cell_type": "markdown",
   "source": [
    "# Resources for Review\n",
    "\n",
    "Check out the resources below for a review of Selection sort!\n",
    "\n",
    "* [Wikipedia](https://en.wikipedia.org/wiki/Selection_sort)\n",
    "* [Visual Algo](http://visualgo.net/sorting.html)\n",
    "* [Animation](http://cs.armstrong.edu/liang/animation/web/SelectionSort.html)\n",
    "* [Sorting Algorithms Animcation with Pseudocode](http://www.sorting-algorithms.com/selection-sort)"
   ],
   "metadata": {}
  },
  {
   "cell_type": "code",
   "execution_count": 1,
   "source": [
    "def selection_sort(arr):\n",
    "    \n",
    "    # For every slot in array\n",
    "    for fillslot in range(len(arr)-1,0,-1):\n",
    "        positionOfMax=0\n",
    "        \n",
    "        # For every set of 0 to fillslot+1\n",
    "        for location in range(1,fillslot+1):\n",
    "            # Set maximum's location\n",
    "            if arr[location]>arr[positionOfMax]:\n",
    "                positionOfMax = location\n",
    "\n",
    "        temp = arr[fillslot]\n",
    "        arr[fillslot] = arr[positionOfMax]\n",
    "        arr[positionOfMax] = temp"
   ],
   "outputs": [],
   "metadata": {
    "collapsed": true
   }
  },
  {
   "cell_type": "code",
   "execution_count": 1,
   "source": [
    "# 2 nested loops. 1 parse all array and 2nd search for the min value and swaps\n",
    "def selection_sort(arr):\n",
    "    \n",
    "    for i in range(len(arr)):\n",
    "        min=i\n",
    "        \n",
    "        for j in range(i,len(arr)):  \n",
    "            if arr[j]<arr[min]:\n",
    "                min = j\n",
    "\n",
    "        temp = arr[i]\n",
    "        arr[i] = arr[min]\n",
    "        arr[min] = temp"
   ],
   "outputs": [],
   "metadata": {}
  },
  {
   "cell_type": "code",
   "execution_count": 2,
   "source": [
    "arr = [3,5,2,7,6,8,12,40,21]\n",
    "selection_sort(arr)\n",
    "arr"
   ],
   "outputs": [
    {
     "output_type": "execute_result",
     "data": {
      "text/plain": [
       "[2, 3, 5, 6, 7, 8, 12, 21, 40]"
      ]
     },
     "metadata": {},
     "execution_count": 2
    }
   ],
   "metadata": {
    "collapsed": false
   }
  },
  {
   "cell_type": "markdown",
   "source": [
    "# Good Job!"
   ],
   "metadata": {}
  }
 ],
 "metadata": {
  "kernelspec": {
   "name": "python3",
   "display_name": "Python 3.8.8 64-bit ('base': conda)"
  },
  "language_info": {
   "name": "python",
   "version": "3.8.8",
   "mimetype": "text/x-python",
   "codemirror_mode": {
    "name": "ipython",
    "version": 3
   },
   "pygments_lexer": "ipython3",
   "nbconvert_exporter": "python",
   "file_extension": ".py"
  },
  "interpreter": {
   "hash": "dca0ade3e726a953b501b15e8e990130d2b7799f14cfd9f4271676035ebe5511"
  }
 },
 "nbformat": 4,
 "nbformat_minor": 2
}