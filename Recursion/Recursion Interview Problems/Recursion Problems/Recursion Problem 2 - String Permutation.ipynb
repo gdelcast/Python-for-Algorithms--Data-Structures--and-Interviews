{
 "cells": [
  {
   "cell_type": "markdown",
   "source": [
    "# String Permutation\n",
    "\n",
    "## Problem Statement\n",
    "\n",
    "Given a string, write a function that uses recursion to output a list of all the possible permutations of that string.\n",
    "\n",
    "For example, given s='abc' the function should return ['abc', 'acb', 'bac', 'bca', 'cab', 'cba']\n",
    "\n",
    "*Note: If a character is repeated, treat each occurence as distinct, for example an input of 'xxx' would return a list with 6 \"versions\" of 'xxx'*\n",
    "\n",
    "\n",
    "## Fill Out Your Solution Below\n",
    "\n",
    "Let's think about what the steps we need to take here are:"
   ],
   "metadata": {
    "collapsed": true
   }
  },
  {
   "cell_type": "code",
   "execution_count": 67,
   "source": [
    "def permute(s):\n",
    "    output = []\n",
    "    \n",
    "    if len(s) <= 1:\n",
    "        output=[s]\n",
    "    else:\n",
    "        for i, let in enumerate(s):\n",
    "            #print(let + \" * \" + s[:i]+s[i+1:])\n",
    "            for perm in permute(s[:i]+s[i+1:]):\n",
    "                output+=[let+perm]\n",
    "                #print(['*'] + output)\n",
    "\n",
    "    print(output)\n",
    "    return output"
   ],
   "outputs": [],
   "metadata": {
    "collapsed": true
   }
  },
  {
   "cell_type": "code",
   "execution_count": 76,
   "source": [
    "prices = [7,1,5,3,6,4]\n",
    "prices[6:]"
   ],
   "outputs": [
    {
     "output_type": "execute_result",
     "data": {
      "text/plain": [
       "[]"
      ]
     },
     "metadata": {},
     "execution_count": 76
    }
   ],
   "metadata": {}
  },
  {
   "cell_type": "code",
   "execution_count": 68,
   "source": [
    "permute('abcd')\n",
    "#['abc', 'acb', 'bac', 'bca', 'cab', 'cba']"
   ],
   "outputs": [
    {
     "output_type": "stream",
     "name": "stdout",
     "text": [
      "['d']\n",
      "['c']\n",
      "['cd', 'dc']\n",
      "['d']\n",
      "['b']\n",
      "['bd', 'db']\n",
      "['c']\n",
      "['b']\n",
      "['bc', 'cb']\n",
      "['bcd', 'bdc', 'cbd', 'cdb', 'dbc', 'dcb']\n",
      "['d']\n",
      "['c']\n",
      "['cd', 'dc']\n",
      "['d']\n",
      "['a']\n",
      "['ad', 'da']\n",
      "['c']\n",
      "['a']\n",
      "['ac', 'ca']\n",
      "['acd', 'adc', 'cad', 'cda', 'dac', 'dca']\n",
      "['d']\n",
      "['b']\n",
      "['bd', 'db']\n",
      "['d']\n",
      "['a']\n",
      "['ad', 'da']\n",
      "['b']\n",
      "['a']\n",
      "['ab', 'ba']\n",
      "['abd', 'adb', 'bad', 'bda', 'dab', 'dba']\n",
      "['c']\n",
      "['b']\n",
      "['bc', 'cb']\n",
      "['c']\n",
      "['a']\n",
      "['ac', 'ca']\n",
      "['b']\n",
      "['a']\n",
      "['ab', 'ba']\n",
      "['abc', 'acb', 'bac', 'bca', 'cab', 'cba']\n",
      "['abcd', 'abdc', 'acbd', 'acdb', 'adbc', 'adcb', 'bacd', 'badc', 'bcad', 'bcda', 'bdac', 'bdca', 'cabd', 'cadb', 'cbad', 'cbda', 'cdab', 'cdba', 'dabc', 'dacb', 'dbac', 'dbca', 'dcab', 'dcba']\n"
     ]
    },
    {
     "output_type": "execute_result",
     "data": {
      "text/plain": [
       "['abcd',\n",
       " 'abdc',\n",
       " 'acbd',\n",
       " 'acdb',\n",
       " 'adbc',\n",
       " 'adcb',\n",
       " 'bacd',\n",
       " 'badc',\n",
       " 'bcad',\n",
       " 'bcda',\n",
       " 'bdac',\n",
       " 'bdca',\n",
       " 'cabd',\n",
       " 'cadb',\n",
       " 'cbad',\n",
       " 'cbda',\n",
       " 'cdab',\n",
       " 'cdba',\n",
       " 'dabc',\n",
       " 'dacb',\n",
       " 'dbac',\n",
       " 'dbca',\n",
       " 'dcab',\n",
       " 'dcba']"
      ]
     },
     "metadata": {},
     "execution_count": 68
    }
   ],
   "metadata": {
    "collapsed": false
   }
  },
  {
   "cell_type": "markdown",
   "source": [
    "____\n",
    "# Test Your Solution"
   ],
   "metadata": {}
  },
  {
   "cell_type": "code",
   "execution_count": 25,
   "source": [
    "\"\"\"\n",
    "RUN THIS CELL TO TEST YOUR SOLUTION.\n",
    "\"\"\"\n",
    "\n",
    "from nose.tools import assert_equal\n",
    "\n",
    "class TestPerm(object):\n",
    "    \n",
    "    def test(self,solution):\n",
    "        \n",
    "        assert_equal(sorted(solution('abc')),sorted(['abc', 'acb', 'bac', 'bca', 'cab', 'cba']))\n",
    "        assert_equal(sorted(solution('dog')),sorted(['dog', 'dgo', 'odg', 'ogd', 'gdo', 'god']) )\n",
    "        \n",
    "        print('All test cases passed.')\n",
    "        \n",
    "\n",
    "\n",
    "# Run Tests\n",
    "t = TestPerm()\n",
    "t.test(permute)"
   ],
   "outputs": [
    {
     "output_type": "stream",
     "name": "stdout",
     "text": [
      "All test cases passed.\n"
     ]
    }
   ],
   "metadata": {
    "collapsed": false
   }
  },
  {
   "cell_type": "markdown",
   "source": [
    "## Good Luck!"
   ],
   "metadata": {}
  }
 ],
 "metadata": {
  "kernelspec": {
   "name": "python3",
   "display_name": "Python 3.8.8 64-bit ('base': conda)"
  },
  "language_info": {
   "name": "python",
   "version": "3.8.8",
   "mimetype": "text/x-python",
   "codemirror_mode": {
    "name": "ipython",
    "version": 3
   },
   "pygments_lexer": "ipython3",
   "nbconvert_exporter": "python",
   "file_extension": ".py"
  },
  "interpreter": {
   "hash": "dca0ade3e726a953b501b15e8e990130d2b7799f14cfd9f4271676035ebe5511"
  }
 },
 "nbformat": 4,
 "nbformat_minor": 2
}